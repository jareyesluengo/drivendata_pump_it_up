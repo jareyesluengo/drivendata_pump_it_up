{
 "cells": [
  {
   "cell_type": "markdown",
   "metadata": {},
   "source": [
    "# 01 Library"
   ]
  },
  {
   "cell_type": "code",
   "execution_count": 1,
   "metadata": {},
   "outputs": [],
   "source": [
    "import os\n",
    "import pickle\n",
    "import warnings\n",
    "from datetime import datetime\n",
    "from collections import defaultdict\n",
    "\n",
    "import numpy as np\n",
    "import pandas as pd\n",
    "\n",
    "import seaborn as sns\n",
    "import matplotlib.pyplot as plt\n",
    "import plotly.express as px\n",
    "\n",
    "import sklearn.impute as skl_imp\n",
    "from dirty_cat import SimilarityEncoder\n",
    "from sklearn.metrics import roc_auc_score\n",
    "from sklearn.model_selection import train_test_split\n",
    "from sklearn.ensemble import RandomForestClassifier\n",
    "from sklearn.experimental import enable_iterative_imputer\n",
    "from sklearn.preprocessing import LabelEncoder, OrdinalEncoder, FunctionTransformer, OneHotEncoder\n",
    "\n",
    "from common.utils import *\n",
    "\n",
    "warnings.filterwarnings('ignore')"
   ]
  },
  {
   "cell_type": "markdown",
   "metadata": {},
   "source": [
    "# 02 Load Data"
   ]
  },
  {
   "cell_type": "code",
   "execution_count": 2,
   "metadata": {},
   "outputs": [],
   "source": [
    "path_in = os.path.join(os.getcwd(), 'data/input/')\n",
    "path_out = os.path.join(os.getcwd(), 'data/output/')\n",
    "path_model = os.path.join(os.getcwd(), 'models/')"
   ]
  },
  {
   "cell_type": "code",
   "execution_count": 3,
   "metadata": {},
   "outputs": [],
   "source": [
    "paths = [path_in, path_out, path_model]\n",
    "for path in paths:\n",
    "    os.makedirs(path, exist_ok=True)"
   ]
  },
  {
   "cell_type": "code",
   "execution_count": 4,
   "metadata": {},
   "outputs": [],
   "source": [
    "files = []\n",
    "for (dirpath, dirnames, filenames) in os.walk(path_in):\n",
    "    files.extend(filenames)"
   ]
  },
  {
   "cell_type": "code",
   "execution_count": 5,
   "metadata": {},
   "outputs": [],
   "source": [
    "file_test = os.path.join(path_in, 'test-set-values.csv')\n",
    "file_values = os.path.join(path_in, 'training-set-values.csv')\n",
    "file_labels = os.path.join(path_in, 'training-set-labels.csv')"
   ]
  },
  {
   "cell_type": "code",
   "execution_count": 6,
   "metadata": {},
   "outputs": [],
   "source": [
    "df_test_values = pd.read_csv(file_test)\n",
    "df_train_values = pd.read_csv(file_values)\n",
    "df_train_labels = pd.read_csv(file_labels)"
   ]
  },
  {
   "cell_type": "code",
   "execution_count": 7,
   "metadata": {},
   "outputs": [
    {
     "data": {
      "text/plain": [
       "((14850, 40), (59400, 40))"
      ]
     },
     "execution_count": 7,
     "metadata": {},
     "output_type": "execute_result"
    }
   ],
   "source": [
    "df_test_values.shape, df_train_values.shape"
   ]
  },
  {
   "cell_type": "code",
   "execution_count": 8,
   "metadata": {},
   "outputs": [],
   "source": [
    "DataPre = pd.concat([df_train_values, df_test_values], axis=0, keys=['train','test']).reset_index(level=[0])"
   ]
  },
  {
   "cell_type": "markdown",
   "metadata": {},
   "source": [
    "# 03 Pre-processing"
   ]
  },
  {
   "cell_type": "markdown",
   "metadata": {},
   "source": [
    "## 03.01 Info and Describe"
   ]
  },
  {
   "cell_type": "code",
   "execution_count": 9,
   "metadata": {},
   "outputs": [],
   "source": [
    "DataPre.date_recorded = pd.to_datetime(DataPre.date_recorded)\n",
    "# DataPre.gps_height = DataPre.gps_height.astype(float)"
   ]
  },
  {
   "cell_type": "code",
   "execution_count": 10,
   "metadata": {},
   "outputs": [
    {
     "name": "stdout",
     "output_type": "stream",
     "text": [
      "<class 'pandas.core.frame.DataFrame'>\n",
      "Index: 74250 entries, 0 to 14849\n",
      "Data columns (total 41 columns):\n",
      " #   Column                 Non-Null Count  Dtype         \n",
      "---  ------                 --------------  -----         \n",
      " 0   level_0                74250 non-null  object        \n",
      " 1   id                     74250 non-null  int64         \n",
      " 2   amount_tsh             74250 non-null  float64       \n",
      " 3   date_recorded          74250 non-null  datetime64[ns]\n",
      " 4   funder                 69743 non-null  object        \n",
      " 5   gps_height             74250 non-null  int64         \n",
      " 6   installer              69718 non-null  object        \n",
      " 7   longitude              74250 non-null  float64       \n",
      " 8   latitude               74250 non-null  float64       \n",
      " 9   wpt_name               74248 non-null  object        \n",
      " 10  num_private            74250 non-null  int64         \n",
      " 11  basin                  74250 non-null  object        \n",
      " 12  subvillage             73780 non-null  object        \n",
      " 13  region                 74250 non-null  object        \n",
      " 14  region_code            74250 non-null  int64         \n",
      " 15  district_code          74250 non-null  int64         \n",
      " 16  lga                    74250 non-null  object        \n",
      " 17  ward                   74250 non-null  object        \n",
      " 18  population             74250 non-null  int64         \n",
      " 19  public_meeting         70095 non-null  object        \n",
      " 20  recorded_by            74250 non-null  object        \n",
      " 21  scheme_management      69403 non-null  object        \n",
      " 22  scheme_name            38198 non-null  object        \n",
      " 23  permit                 70457 non-null  object        \n",
      " 24  construction_year      74250 non-null  int64         \n",
      " 25  extraction_type        74250 non-null  object        \n",
      " 26  extraction_type_group  74250 non-null  object        \n",
      " 27  extraction_type_class  74250 non-null  object        \n",
      " 28  management             74250 non-null  object        \n",
      " 29  management_group       74250 non-null  object        \n",
      " 30  payment                74250 non-null  object        \n",
      " 31  payment_type           74250 non-null  object        \n",
      " 32  water_quality          74250 non-null  object        \n",
      " 33  quality_group          74250 non-null  object        \n",
      " 34  quantity               74250 non-null  object        \n",
      " 35  quantity_group         74250 non-null  object        \n",
      " 36  source                 74250 non-null  object        \n",
      " 37  source_type            74250 non-null  object        \n",
      " 38  source_class           74250 non-null  object        \n",
      " 39  waterpoint_type        74250 non-null  object        \n",
      " 40  waterpoint_type_group  74250 non-null  object        \n",
      "dtypes: datetime64[ns](1), float64(3), int64(7), object(30)\n",
      "memory usage: 23.8+ MB\n"
     ]
    }
   ],
   "source": [
    "DataPre.info()"
   ]
  },
  {
   "cell_type": "code",
   "execution_count": 11,
   "metadata": {},
   "outputs": [
    {
     "data": {
      "text/html": [
       "<div>\n",
       "<style scoped>\n",
       "    .dataframe tbody tr th:only-of-type {\n",
       "        vertical-align: middle;\n",
       "    }\n",
       "\n",
       "    .dataframe tbody tr th {\n",
       "        vertical-align: top;\n",
       "    }\n",
       "\n",
       "    .dataframe thead th {\n",
       "        text-align: right;\n",
       "    }\n",
       "</style>\n",
       "<table border=\"1\" class=\"dataframe\">\n",
       "  <thead>\n",
       "    <tr style=\"text-align: right;\">\n",
       "      <th></th>\n",
       "      <th>level_0</th>\n",
       "      <th>id</th>\n",
       "      <th>amount_tsh</th>\n",
       "      <th>date_recorded</th>\n",
       "      <th>funder</th>\n",
       "      <th>gps_height</th>\n",
       "      <th>installer</th>\n",
       "      <th>longitude</th>\n",
       "      <th>latitude</th>\n",
       "      <th>wpt_name</th>\n",
       "      <th>...</th>\n",
       "      <th>payment_type</th>\n",
       "      <th>water_quality</th>\n",
       "      <th>quality_group</th>\n",
       "      <th>quantity</th>\n",
       "      <th>quantity_group</th>\n",
       "      <th>source</th>\n",
       "      <th>source_type</th>\n",
       "      <th>source_class</th>\n",
       "      <th>waterpoint_type</th>\n",
       "      <th>waterpoint_type_group</th>\n",
       "    </tr>\n",
       "  </thead>\n",
       "  <tbody>\n",
       "    <tr>\n",
       "      <th>0</th>\n",
       "      <td>train</td>\n",
       "      <td>69572</td>\n",
       "      <td>6000.0</td>\n",
       "      <td>2011-03-14</td>\n",
       "      <td>Roman</td>\n",
       "      <td>1390</td>\n",
       "      <td>Roman</td>\n",
       "      <td>34.938093</td>\n",
       "      <td>-9.856322</td>\n",
       "      <td>none</td>\n",
       "      <td>...</td>\n",
       "      <td>annually</td>\n",
       "      <td>soft</td>\n",
       "      <td>good</td>\n",
       "      <td>enough</td>\n",
       "      <td>enough</td>\n",
       "      <td>spring</td>\n",
       "      <td>spring</td>\n",
       "      <td>groundwater</td>\n",
       "      <td>communal standpipe</td>\n",
       "      <td>communal standpipe</td>\n",
       "    </tr>\n",
       "    <tr>\n",
       "      <th>1</th>\n",
       "      <td>train</td>\n",
       "      <td>8776</td>\n",
       "      <td>0.0</td>\n",
       "      <td>2013-03-06</td>\n",
       "      <td>Grumeti</td>\n",
       "      <td>1399</td>\n",
       "      <td>GRUMETI</td>\n",
       "      <td>34.698766</td>\n",
       "      <td>-2.147466</td>\n",
       "      <td>Zahanati</td>\n",
       "      <td>...</td>\n",
       "      <td>never pay</td>\n",
       "      <td>soft</td>\n",
       "      <td>good</td>\n",
       "      <td>insufficient</td>\n",
       "      <td>insufficient</td>\n",
       "      <td>rainwater harvesting</td>\n",
       "      <td>rainwater harvesting</td>\n",
       "      <td>surface</td>\n",
       "      <td>communal standpipe</td>\n",
       "      <td>communal standpipe</td>\n",
       "    </tr>\n",
       "    <tr>\n",
       "      <th>2</th>\n",
       "      <td>train</td>\n",
       "      <td>34310</td>\n",
       "      <td>25.0</td>\n",
       "      <td>2013-02-25</td>\n",
       "      <td>Lottery Club</td>\n",
       "      <td>686</td>\n",
       "      <td>World vision</td>\n",
       "      <td>37.460664</td>\n",
       "      <td>-3.821329</td>\n",
       "      <td>Kwa Mahundi</td>\n",
       "      <td>...</td>\n",
       "      <td>per bucket</td>\n",
       "      <td>soft</td>\n",
       "      <td>good</td>\n",
       "      <td>enough</td>\n",
       "      <td>enough</td>\n",
       "      <td>dam</td>\n",
       "      <td>dam</td>\n",
       "      <td>surface</td>\n",
       "      <td>communal standpipe multiple</td>\n",
       "      <td>communal standpipe</td>\n",
       "    </tr>\n",
       "    <tr>\n",
       "      <th>3</th>\n",
       "      <td>train</td>\n",
       "      <td>67743</td>\n",
       "      <td>0.0</td>\n",
       "      <td>2013-01-28</td>\n",
       "      <td>Unicef</td>\n",
       "      <td>263</td>\n",
       "      <td>UNICEF</td>\n",
       "      <td>38.486161</td>\n",
       "      <td>-11.155298</td>\n",
       "      <td>Zahanati Ya Nanyumbu</td>\n",
       "      <td>...</td>\n",
       "      <td>never pay</td>\n",
       "      <td>soft</td>\n",
       "      <td>good</td>\n",
       "      <td>dry</td>\n",
       "      <td>dry</td>\n",
       "      <td>machine dbh</td>\n",
       "      <td>borehole</td>\n",
       "      <td>groundwater</td>\n",
       "      <td>communal standpipe multiple</td>\n",
       "      <td>communal standpipe</td>\n",
       "    </tr>\n",
       "    <tr>\n",
       "      <th>4</th>\n",
       "      <td>train</td>\n",
       "      <td>19728</td>\n",
       "      <td>0.0</td>\n",
       "      <td>2011-07-13</td>\n",
       "      <td>Action In A</td>\n",
       "      <td>0</td>\n",
       "      <td>Artisan</td>\n",
       "      <td>31.130847</td>\n",
       "      <td>-1.825359</td>\n",
       "      <td>Shuleni</td>\n",
       "      <td>...</td>\n",
       "      <td>never pay</td>\n",
       "      <td>soft</td>\n",
       "      <td>good</td>\n",
       "      <td>seasonal</td>\n",
       "      <td>seasonal</td>\n",
       "      <td>rainwater harvesting</td>\n",
       "      <td>rainwater harvesting</td>\n",
       "      <td>surface</td>\n",
       "      <td>communal standpipe</td>\n",
       "      <td>communal standpipe</td>\n",
       "    </tr>\n",
       "  </tbody>\n",
       "</table>\n",
       "<p>5 rows × 41 columns</p>\n",
       "</div>"
      ],
      "text/plain": [
       "  level_0     id  amount_tsh date_recorded        funder  gps_height  \\\n",
       "0   train  69572      6000.0    2011-03-14         Roman        1390   \n",
       "1   train   8776         0.0    2013-03-06       Grumeti        1399   \n",
       "2   train  34310        25.0    2013-02-25  Lottery Club         686   \n",
       "3   train  67743         0.0    2013-01-28        Unicef         263   \n",
       "4   train  19728         0.0    2011-07-13   Action In A           0   \n",
       "\n",
       "      installer  longitude   latitude              wpt_name  ...  \\\n",
       "0         Roman  34.938093  -9.856322                  none  ...   \n",
       "1       GRUMETI  34.698766  -2.147466              Zahanati  ...   \n",
       "2  World vision  37.460664  -3.821329           Kwa Mahundi  ...   \n",
       "3        UNICEF  38.486161 -11.155298  Zahanati Ya Nanyumbu  ...   \n",
       "4       Artisan  31.130847  -1.825359               Shuleni  ...   \n",
       "\n",
       "   payment_type water_quality quality_group      quantity  quantity_group  \\\n",
       "0      annually          soft          good        enough          enough   \n",
       "1     never pay          soft          good  insufficient    insufficient   \n",
       "2    per bucket          soft          good        enough          enough   \n",
       "3     never pay          soft          good           dry             dry   \n",
       "4     never pay          soft          good      seasonal        seasonal   \n",
       "\n",
       "                 source           source_type source_class  \\\n",
       "0                spring                spring  groundwater   \n",
       "1  rainwater harvesting  rainwater harvesting      surface   \n",
       "2                   dam                   dam      surface   \n",
       "3           machine dbh              borehole  groundwater   \n",
       "4  rainwater harvesting  rainwater harvesting      surface   \n",
       "\n",
       "               waterpoint_type waterpoint_type_group  \n",
       "0           communal standpipe    communal standpipe  \n",
       "1           communal standpipe    communal standpipe  \n",
       "2  communal standpipe multiple    communal standpipe  \n",
       "3  communal standpipe multiple    communal standpipe  \n",
       "4           communal standpipe    communal standpipe  \n",
       "\n",
       "[5 rows x 41 columns]"
      ]
     },
     "execution_count": 11,
     "metadata": {},
     "output_type": "execute_result"
    }
   ],
   "source": [
    "DataPre.head()"
   ]
  },
  {
   "cell_type": "markdown",
   "metadata": {},
   "source": [
    "## 03.01 GIS"
   ]
  },
  {
   "cell_type": "code",
   "execution_count": 12,
   "metadata": {},
   "outputs": [],
   "source": [
    "DataGeo = DataPre[['basin', 'subvillage', 'region', 'region_code', 'district_code', 'lga', 'ward', 'gps_height', 'longitude', 'latitude']]"
   ]
  },
  {
   "cell_type": "code",
   "execution_count": 13,
   "metadata": {},
   "outputs": [],
   "source": [
    "list_basin = DataGeo[DataGeo.gps_height.eq(0.0)&DataGeo.longitude.eq(0.000000)&DataGeo.latitude.eq(-2.000000e-08)].basin.unique()\n",
    "DataBasin = DataGeo[DataGeo.basin.isin(list_basin)]\n",
    "cols = DataBasin.columns\n",
    "idx = DataBasin.index"
   ]
  },
  {
   "cell_type": "code",
   "execution_count": 14,
   "metadata": {},
   "outputs": [],
   "source": [
    "DataBasin.loc[DataBasin.gps_height.eq(0.0)&DataBasin.longitude.eq(0.000000)&DataBasin.latitude.eq(-2.000000e-08), ['gps_height','longitude', 'latitude']] = np.nan, np.nan, np.nan\n",
    "DataBasin.reset_index(drop=True, inplace=True)"
   ]
  },
  {
   "cell_type": "code",
   "execution_count": 15,
   "metadata": {},
   "outputs": [],
   "source": [
    "# Dictionary\n",
    "g = defaultdict(LabelEncoder)\n",
    "# Encoding the variable\n",
    "fit = DataBasin.select_dtypes(exclude=['int', 'float']).apply(lambda x: g[x.name].fit_transform(x))\n",
    "\n",
    "# Using the dictionary to label future data\n",
    "cols_txt = DataBasin.select_dtypes(exclude=['int', 'float']).columns\n",
    "DataBasin.loc[:, cols_txt] = DataBasin.select_dtypes(exclude=['int', 'float']).apply(lambda x: g[x.name].transform(x))"
   ]
  },
  {
   "cell_type": "code",
   "execution_count": 16,
   "metadata": {},
   "outputs": [],
   "source": [
    "# Imputación multivariante Iterativa\n",
    "imputer_itImp = skl_imp.IterativeImputer(max_iter=100, random_state=0)\n",
    "DataBasin = imputer_itImp.fit_transform(DataBasin)\n",
    "DataBasin = pd.DataFrame(DataBasin, columns=cols, index=idx)"
   ]
  },
  {
   "cell_type": "code",
   "execution_count": 17,
   "metadata": {},
   "outputs": [],
   "source": [
    "# Inverse the encoded\n",
    "DataBasin.loc[:, cols_txt] = fit.apply(lambda x: g[x.name].inverse_transform(x))"
   ]
  },
  {
   "cell_type": "code",
   "execution_count": 18,
   "metadata": {},
   "outputs": [],
   "source": [
    "DataPre.loc[DataPre.basin.isin(list_basin), ['gps_height', 'longitude', 'latitude']] = DataBasin[['gps_height', 'longitude', 'latitude']]"
   ]
  },
  {
   "cell_type": "markdown",
   "metadata": {},
   "source": [
    "## 03.02 Variables con valores unicos iguales o menores a 30 categorias"
   ]
  },
  {
   "cell_type": "code",
   "execution_count": 19,
   "metadata": {},
   "outputs": [
    {
     "data": {
      "text/plain": [
       "0        GeoData Consultants Ltd\n",
       "1        GeoData Consultants Ltd\n",
       "2        GeoData Consultants Ltd\n",
       "3        GeoData Consultants Ltd\n",
       "4        GeoData Consultants Ltd\n",
       "                  ...           \n",
       "14845    GeoData Consultants Ltd\n",
       "14846    GeoData Consultants Ltd\n",
       "14847    GeoData Consultants Ltd\n",
       "14848    GeoData Consultants Ltd\n",
       "14849    GeoData Consultants Ltd\n",
       "Name: recorded_by, Length: 74250, dtype: object"
      ]
     },
     "execution_count": 19,
     "metadata": {},
     "output_type": "execute_result"
    }
   ],
   "source": [
    "DataPre.pop('recorded_by')"
   ]
  },
  {
   "cell_type": "code",
   "execution_count": 20,
   "metadata": {},
   "outputs": [],
   "source": [
    "# Para las variables booleanas, se han imputado los valores nulos usando el cociente de los valores disponibles.\n",
    "# Con el fin de preservar las potenciales relaciones."
   ]
  },
  {
   "cell_type": "code",
   "execution_count": 21,
   "metadata": {},
   "outputs": [
    {
     "data": {
      "text/plain": [
       "public_meeting\n",
       "True     0.909466\n",
       "False    0.090534\n",
       "Name: proportion, dtype: float64"
      ]
     },
     "execution_count": 21,
     "metadata": {},
     "output_type": "execute_result"
    }
   ],
   "source": [
    "public_prop = DataPre['public_meeting'].value_counts(normalize=True)\n",
    "public_prop"
   ]
  },
  {
   "cell_type": "code",
   "execution_count": 22,
   "metadata": {},
   "outputs": [
    {
     "data": {
      "text/plain": [
       "permit\n",
       "True     0.689868\n",
       "False    0.310132\n",
       "Name: proportion, dtype: float64"
      ]
     },
     "execution_count": 22,
     "metadata": {},
     "output_type": "execute_result"
    }
   ],
   "source": [
    "permit_prop = DataPre['permit'].value_counts(normalize=True)\n",
    "permit_prop"
   ]
  },
  {
   "cell_type": "code",
   "execution_count": 23,
   "metadata": {},
   "outputs": [],
   "source": [
    "DataPre['public_meeting'].fillna(pd.Series(np.random.choice([True, False],\n",
    "                                                     p=[public_prop[True], public_prop[False]],\n",
    "                                                     size=len(DataPre))), inplace=True)\n",
    "DataPre['permit'].fillna(pd.Series(np.random.choice([True, False],\n",
    "                                                    p=[permit_prop[True], permit_prop[False]],\n",
    "                                                    size=len(DataPre))), inplace=True)"
   ]
  },
  {
   "cell_type": "code",
   "execution_count": 24,
   "metadata": {},
   "outputs": [],
   "source": [
    "DataPre['public_meeting'] = DataPre['public_meeting'].astype(float)\n",
    "DataPre['permit'] = DataPre['permit'].astype(float)"
   ]
  },
  {
   "cell_type": "code",
   "execution_count": 25,
   "metadata": {},
   "outputs": [],
   "source": [
    "clean_cat = ['basin',\n",
    "             'region',\n",
    "             'scheme_management',\n",
    "             'extraction_type',\n",
    "             'extraction_type_group',\n",
    "             'extraction_type_class',\n",
    "             'management',\n",
    "             'management_group',\n",
    "             'payment',\n",
    "             'payment_type',\n",
    "             'water_quality',\n",
    "             'quality_group',\n",
    "             'quantity',\n",
    "             'quantity_group',\n",
    "             'source',\n",
    "             'source_type',\n",
    "             'source_class',\n",
    "             'waterpoint_type',\n",
    "             'waterpoint_type_group']"
   ]
  },
  {
   "cell_type": "code",
   "execution_count": 26,
   "metadata": {},
   "outputs": [],
   "source": [
    "DataPre[clean_cat] = DataPre[clean_cat].apply(lambda x: x.str.lower())\n",
    "DataPre[clean_cat] = DataPre[clean_cat].apply(lambda x: x.str.replace(' / ', ' ', regex=True))\n",
    "DataPre[clean_cat] = DataPre[clean_cat].apply(lambda x: x.str.replace('/', ' ', regex=True))\n",
    "DataPre[clean_cat] = DataPre[clean_cat].apply(lambda x: x.str.replace('other - ', '', regex=True))\n",
    "DataPre[clean_cat] = DataPre[clean_cat].apply(lambda x: x.str.replace('other ', '', regex=True))\n",
    "DataPre[clean_cat] = DataPre[clean_cat].apply(lambda x: x.str.replace('-', ' ', regex=True))\n",
    "DataPre[clean_cat] = DataPre[clean_cat].apply(lambda x: x.str.strip())"
   ]
  },
  {
   "cell_type": "markdown",
   "metadata": {},
   "source": [
    "## 03.03 Variables con valores unicos mayores a 30 categorias"
   ]
  },
  {
   "cell_type": "code",
   "execution_count": 27,
   "metadata": {},
   "outputs": [
    {
     "data": {
      "text/plain": [
       "0                              Roman\n",
       "1                                NaN\n",
       "2        Nyumba ya mungu pipe scheme\n",
       "3                                NaN\n",
       "4                                NaN\n",
       "                    ...             \n",
       "14845                  Bagamoyo wate\n",
       "14846                            NaN\n",
       "14847                            NaN\n",
       "14848      Mradi wa maji wa maposeni\n",
       "14849                         DANIDA\n",
       "Name: scheme_name, Length: 74250, dtype: object"
      ]
     },
     "execution_count": 27,
     "metadata": {},
     "output_type": "execute_result"
    }
   ],
   "source": [
    "DataPre.pop('scheme_name')"
   ]
  },
  {
   "cell_type": "code",
   "execution_count": 28,
   "metadata": {},
   "outputs": [],
   "source": [
    "dirty_cat = ['lga', 'subvillage', 'ward', 'wpt_name', 'installer', 'funder']"
   ]
  },
  {
   "cell_type": "code",
   "execution_count": 29,
   "metadata": {},
   "outputs": [],
   "source": [
    "DataPre[dirty_cat] = DataPre[dirty_cat].apply(lambda x: x.str.replace('[^\\w+\\s]', '', regex=True))\n",
    "DataPre[dirty_cat] = DataPre[dirty_cat].apply(lambda x: x.str.strip())\n",
    "DataPre[dirty_cat] = DataPre[dirty_cat].apply(lambda x: x.str.lower())"
   ]
  },
  {
   "cell_type": "code",
   "execution_count": 30,
   "metadata": {},
   "outputs": [
    {
     "name": "stdout",
     "output_type": "stream",
     "text": [
      "<class 'pandas.core.frame.DataFrame'>\n",
      "Index: 74250 entries, 0 to 14849\n",
      "Data columns (total 6 columns):\n",
      " #   Column      Non-Null Count  Dtype \n",
      "---  ------      --------------  ----- \n",
      " 0   lga         74250 non-null  object\n",
      " 1   subvillage  73780 non-null  object\n",
      " 2   ward        74250 non-null  object\n",
      " 3   wpt_name    74248 non-null  object\n",
      " 4   installer   69718 non-null  object\n",
      " 5   funder      69743 non-null  object\n",
      "dtypes: object(6)\n",
      "memory usage: 4.0+ MB\n"
     ]
    }
   ],
   "source": [
    "DataPre[dirty_cat].info()"
   ]
  },
  {
   "cell_type": "markdown",
   "metadata": {},
   "source": [
    "## 03.04 Variables continuas y temporales"
   ]
  },
  {
   "cell_type": "code",
   "execution_count": 31,
   "metadata": {},
   "outputs": [
    {
     "data": {
      "text/plain": [
       "0        0\n",
       "1        0\n",
       "2        0\n",
       "3        0\n",
       "4        0\n",
       "        ..\n",
       "14845    0\n",
       "14846    0\n",
       "14847    0\n",
       "14848    0\n",
       "14849    0\n",
       "Name: num_private, Length: 74250, dtype: int64"
      ]
     },
     "execution_count": 31,
     "metadata": {},
     "output_type": "execute_result"
    }
   ],
   "source": [
    "DataPre.pop('num_private')"
   ]
  },
  {
   "cell_type": "markdown",
   "metadata": {},
   "source": [
    "### 03.04.01 construction_year"
   ]
  },
  {
   "cell_type": "code",
   "execution_count": 32,
   "metadata": {},
   "outputs": [],
   "source": [
    "mean_cons_year = DataPre.loc[~DataPre.construction_year.isna(), ['construction_year']].mean().round(0).construction_year"
   ]
  },
  {
   "cell_type": "code",
   "execution_count": 33,
   "metadata": {},
   "outputs": [],
   "source": [
    "DataPre.loc[DataPre.construction_year.eq(0), ['construction_year']] = mean_cons_year"
   ]
  },
  {
   "cell_type": "code",
   "execution_count": 34,
   "metadata": {},
   "outputs": [],
   "source": [
    "DataPre['pump_age'] = DataPre.date_recorded.dt.year - DataPre.construction_year"
   ]
  },
  {
   "cell_type": "markdown",
   "metadata": {},
   "source": [
    "### 03.04.02 date_recorded"
   ]
  },
  {
   "cell_type": "code",
   "execution_count": 35,
   "metadata": {},
   "outputs": [],
   "source": [
    "DataPre['ordinal_recorded'] = DataPre['date_recorded'].apply(lambda x: x.toordinal())"
   ]
  },
  {
   "cell_type": "markdown",
   "metadata": {},
   "source": [
    "## 03.05 Data transformation pipeline"
   ]
  },
  {
   "cell_type": "code",
   "execution_count": 36,
   "metadata": {},
   "outputs": [],
   "source": [
    "# DataPre = DataPre[['level_0', 'id', 'extraction_type_class', 'payment', 'quantity', 'quantity_group', 'waterpoint_type', 'lga']]"
   ]
  },
  {
   "cell_type": "code",
   "execution_count": 37,
   "metadata": {},
   "outputs": [],
   "source": [
    "clean_cols = {\n",
    "     # 'id':                    'numerical' # testigo\n",
    "     'basin':                 'modified-label'\n",
    "    ,'region':                'modified-label'\n",
    "    ,'scheme_management':     'modified-label'\n",
    "    ,'extraction_type':       'modified-label' # model_2024-04-08_215108: 0.8137 / reintento: 0.8135\n",
    "    ,'extraction_type_group': 'modified-label'\n",
    "    ,'extraction_type_class': 'one-hot' # model_2024-04-09_222119: 0.8189\n",
    "    ,'management':            'modified-label'\n",
    "    ,'management_group':      'modified-label'\n",
    "    ,'payment':               'one-hot' # model_2024-04-09_222119: 0.8189\n",
    "    ,'payment_type':          'modified-label'\n",
    "    ,'water_quality':         'modified-label'\n",
    "    ,'quality_group':         'modified-label'\n",
    "    ,'quantity':              'one-hot' # model_2024-04-08_214513: 0.8187\n",
    "    ,'quantity_group':        'one-hot' # model_2024-04-09_222119: 0.8189\n",
    "    ,'source':                'modified-label'\n",
    "    ,'source_type':           'modified-label'\n",
    "    ,'source_class':          'modified-label'\n",
    "    ,'waterpoint_type':       'one-hot' # model_2024-04-08_214513: 0.8187\n",
    "    ,'waterpoint_type_group': 'modified-label'\n",
    "    ,'public_meeting':        'numerical'\n",
    "    ,'permit':                'numerical'\n",
    "    ,'region_code':           'numerical'\n",
    "    ,'district_code':         'numerical'\n",
    "    ,'population':            'numerical'\n",
    "    ,'construction_year':     'numerical'\n",
    "    ,'amount_tsh':            'numerical'\n",
    "    ,'gps_height':            'numerical'\n",
    "    ,'longitude':             'numerical'\n",
    "    ,'latitude':              'numerical'\n",
    "    ,'pump_age':              'numerical' # variable adicional\n",
    "    ,'ordinal_recorded':      'numerical' # variable adicional\n",
    "    }"
   ]
  },
  {
   "cell_type": "code",
   "execution_count": 38,
   "metadata": {},
   "outputs": [],
   "source": [
    "dirty_cols = {\n",
    "     'lga':        'similarity'\n",
    "    ,'subvillage': 'modified-label'\n",
    "    ,'ward':       'modified-label' # 'similarity' -> model_2024-04-08_213437: 0.8071\n",
    "    ,'wpt_name':   'modified-label'\n",
    "    ,'installer':  'modified-label' # 'similarity' -> model_2024-04-08_215108: 0.8137\n",
    "    ,'funder':     'modified-label' # similarity roc auc 0.893589596536799\n",
    "    }"
   ]
  },
  {
   "cell_type": "code",
   "execution_count": 39,
   "metadata": {},
   "outputs": [],
   "source": [
    "encoders_dict = {\n",
    "    'one-hot':        OneHotEncoder(handle_unknown='ignore'),\n",
    "    'similarity':     SimilarityEncoder(similarity='ngram'),\n",
    "    'numerical':      FunctionTransformer(None),\n",
    "    'ordinal':        OrdinalEncoder(handle_unknown='ignore'),\n",
    "    'label':          LabelEncoder(),\n",
    "    'modified-label': ModifiedLabelEncoder()\n",
    "}"
   ]
  },
  {
   "cell_type": "code",
   "execution_count": 40,
   "metadata": {},
   "outputs": [],
   "source": [
    "data_pipe = data_pipeline(clean_cols, dirty_cols, encoders_dict) # función customizada\n",
    "transformed_data = data_pipe.fit_transform(DataPre)"
   ]
  },
  {
   "cell_type": "code",
   "execution_count": 41,
   "metadata": {},
   "outputs": [],
   "source": [
    "transformed_data = pd.DataFrame(transformed_data)"
   ]
  },
  {
   "cell_type": "markdown",
   "metadata": {},
   "source": [
    "## 03.06 Tratamiento de valores atípicos "
   ]
  },
  {
   "cell_type": "code",
   "execution_count": 42,
   "metadata": {},
   "outputs": [],
   "source": [
    "# transformed_data = transformed_data.apply(lambda x: gestiona_outliers(x,clas='winsor'))"
   ]
  },
  {
   "cell_type": "markdown",
   "metadata": {},
   "source": [
    "## 03.07 Data preparation "
   ]
  },
  {
   "cell_type": "code",
   "execution_count": 43,
   "metadata": {},
   "outputs": [],
   "source": [
    "today = datetime.today().strftime('%Y-%m-%d_%H%M%S')"
   ]
  },
  {
   "cell_type": "code",
   "execution_count": 44,
   "metadata": {},
   "outputs": [],
   "source": [
    "DataTransform = pd.concat([DataPre[['level_0', 'id']].reset_index(drop=True), transformed_data], axis=1)"
   ]
  },
  {
   "cell_type": "code",
   "execution_count": 45,
   "metadata": {},
   "outputs": [],
   "source": [
    "DataTrain = pd.merge(df_train_labels, DataTransform[DataTransform['level_0']=='train'].drop(columns=['level_0']), how='left', on='id')"
   ]
  },
  {
   "cell_type": "code",
   "execution_count": 46,
   "metadata": {},
   "outputs": [],
   "source": [
    "DataTrain.to_csv(path_out + f'DataTrain_{today}.csv', index=False)"
   ]
  },
  {
   "cell_type": "code",
   "execution_count": 47,
   "metadata": {},
   "outputs": [],
   "source": [
    "X = DataTrain.drop(columns=['status_group', 'id'])\n",
    "X_submission = DataTransform[DataTransform['level_0']=='test'].drop(columns=['level_0', 'id'])\n",
    "y = DataTrain.status_group"
   ]
  },
  {
   "cell_type": "code",
   "execution_count": 48,
   "metadata": {},
   "outputs": [],
   "source": [
    "X_train, X_test, y_train, y_test = train_test_split(X, y, stratify=y, test_size=0.2, random_state=42)"
   ]
  },
  {
   "cell_type": "markdown",
   "metadata": {},
   "source": [
    "# 04 Modeling"
   ]
  },
  {
   "cell_type": "markdown",
   "metadata": {},
   "source": [
    "## 04.01 Modeling"
   ]
  },
  {
   "cell_type": "code",
   "execution_count": 49,
   "metadata": {},
   "outputs": [
    {
     "data": {
      "text/html": [
       "<style>#sk-container-id-1 {color: black;}#sk-container-id-1 pre{padding: 0;}#sk-container-id-1 div.sk-toggleable {background-color: white;}#sk-container-id-1 label.sk-toggleable__label {cursor: pointer;display: block;width: 100%;margin-bottom: 0;padding: 0.3em;box-sizing: border-box;text-align: center;}#sk-container-id-1 label.sk-toggleable__label-arrow:before {content: \"▸\";float: left;margin-right: 0.25em;color: #696969;}#sk-container-id-1 label.sk-toggleable__label-arrow:hover:before {color: black;}#sk-container-id-1 div.sk-estimator:hover label.sk-toggleable__label-arrow:before {color: black;}#sk-container-id-1 div.sk-toggleable__content {max-height: 0;max-width: 0;overflow: hidden;text-align: left;background-color: #f0f8ff;}#sk-container-id-1 div.sk-toggleable__content pre {margin: 0.2em;color: black;border-radius: 0.25em;background-color: #f0f8ff;}#sk-container-id-1 input.sk-toggleable__control:checked~div.sk-toggleable__content {max-height: 200px;max-width: 100%;overflow: auto;}#sk-container-id-1 input.sk-toggleable__control:checked~label.sk-toggleable__label-arrow:before {content: \"▾\";}#sk-container-id-1 div.sk-estimator input.sk-toggleable__control:checked~label.sk-toggleable__label {background-color: #d4ebff;}#sk-container-id-1 div.sk-label input.sk-toggleable__control:checked~label.sk-toggleable__label {background-color: #d4ebff;}#sk-container-id-1 input.sk-hidden--visually {border: 0;clip: rect(1px 1px 1px 1px);clip: rect(1px, 1px, 1px, 1px);height: 1px;margin: -1px;overflow: hidden;padding: 0;position: absolute;width: 1px;}#sk-container-id-1 div.sk-estimator {font-family: monospace;background-color: #f0f8ff;border: 1px dotted black;border-radius: 0.25em;box-sizing: border-box;margin-bottom: 0.5em;}#sk-container-id-1 div.sk-estimator:hover {background-color: #d4ebff;}#sk-container-id-1 div.sk-parallel-item::after {content: \"\";width: 100%;border-bottom: 1px solid gray;flex-grow: 1;}#sk-container-id-1 div.sk-label:hover label.sk-toggleable__label {background-color: #d4ebff;}#sk-container-id-1 div.sk-serial::before {content: \"\";position: absolute;border-left: 1px solid gray;box-sizing: border-box;top: 0;bottom: 0;left: 50%;z-index: 0;}#sk-container-id-1 div.sk-serial {display: flex;flex-direction: column;align-items: center;background-color: white;padding-right: 0.2em;padding-left: 0.2em;position: relative;}#sk-container-id-1 div.sk-item {position: relative;z-index: 1;}#sk-container-id-1 div.sk-parallel {display: flex;align-items: stretch;justify-content: center;background-color: white;position: relative;}#sk-container-id-1 div.sk-item::before, #sk-container-id-1 div.sk-parallel-item::before {content: \"\";position: absolute;border-left: 1px solid gray;box-sizing: border-box;top: 0;bottom: 0;left: 50%;z-index: -1;}#sk-container-id-1 div.sk-parallel-item {display: flex;flex-direction: column;z-index: 1;position: relative;background-color: white;}#sk-container-id-1 div.sk-parallel-item:first-child::after {align-self: flex-end;width: 50%;}#sk-container-id-1 div.sk-parallel-item:last-child::after {align-self: flex-start;width: 50%;}#sk-container-id-1 div.sk-parallel-item:only-child::after {width: 0;}#sk-container-id-1 div.sk-dashed-wrapped {border: 1px dashed gray;margin: 0 0.4em 0.5em 0.4em;box-sizing: border-box;padding-bottom: 0.4em;background-color: white;}#sk-container-id-1 div.sk-label label {font-family: monospace;font-weight: bold;display: inline-block;line-height: 1.2em;}#sk-container-id-1 div.sk-label-container {text-align: center;}#sk-container-id-1 div.sk-container {/* jupyter's `normalize.less` sets `[hidden] { display: none; }` but bootstrap.min.css set `[hidden] { display: none !important; }` so we also need the `!important` here to be able to override the default hidden behavior on the sphinx rendered scikit-learn.org. See: https://github.com/scikit-learn/scikit-learn/issues/21755 */display: inline-block !important;position: relative;}#sk-container-id-1 div.sk-text-repr-fallback {display: none;}</style><div id=\"sk-container-id-1\" class=\"sk-top-container\"><div class=\"sk-text-repr-fallback\"><pre>RandomForestClassifier()</pre><b>In a Jupyter environment, please rerun this cell to show the HTML representation or trust the notebook. <br />On GitHub, the HTML representation is unable to render, please try loading this page with nbviewer.org.</b></div><div class=\"sk-container\" hidden><div class=\"sk-item\"><div class=\"sk-estimator sk-toggleable\"><input class=\"sk-toggleable__control sk-hidden--visually\" id=\"sk-estimator-id-1\" type=\"checkbox\" checked><label for=\"sk-estimator-id-1\" class=\"sk-toggleable__label sk-toggleable__label-arrow\">RandomForestClassifier</label><div class=\"sk-toggleable__content\"><pre>RandomForestClassifier()</pre></div></div></div></div></div>"
      ],
      "text/plain": [
       "RandomForestClassifier()"
      ]
     },
     "execution_count": 49,
     "metadata": {},
     "output_type": "execute_result"
    }
   ],
   "source": [
    "model = RandomForestClassifier()\n",
    "model.fit(X_train, y_train)\n",
    "# model.fit(X, y)"
   ]
  },
  {
   "cell_type": "code",
   "execution_count": 50,
   "metadata": {},
   "outputs": [],
   "source": [
    "y_pred = model.predict(X_test)\n",
    "y_proba = model.predict_proba(X_test)"
   ]
  },
  {
   "cell_type": "markdown",
   "metadata": {},
   "source": [
    "## 04.02 Save the model"
   ]
  },
  {
   "cell_type": "code",
   "execution_count": 51,
   "metadata": {},
   "outputs": [],
   "source": [
    "# # save\n",
    "# with open(path_model + f'model_{today}.pkl','wb') as f:\n",
    "#     pickle.dump(model,f)"
   ]
  },
  {
   "cell_type": "code",
   "execution_count": 52,
   "metadata": {},
   "outputs": [],
   "source": [
    "# # load\n",
    "# with open(path_model + f'model_{today}.pkl', 'rb') as f:\n",
    "#     model  = pickle.load(f)\n",
    "\n",
    "# model.predict(X[0:1])"
   ]
  },
  {
   "cell_type": "markdown",
   "metadata": {},
   "source": [
    "## 04.03 Evaluation metrics"
   ]
  },
  {
   "cell_type": "markdown",
   "metadata": {},
   "source": [
    "### 04.03.01 ROC Curve - One vs Rest (OvR)\n",
    "Compares each class with the rest of the classes"
   ]
  },
  {
   "cell_type": "code",
   "execution_count": 53,
   "metadata": {},
   "outputs": [
    {
     "data": {
      "text/plain": [
       "array(['functional', 'functional needs repair', 'non functional'],\n",
       "      dtype=object)"
      ]
     },
     "execution_count": 53,
     "metadata": {},
     "output_type": "execute_result"
    }
   ],
   "source": [
    "classes = model.classes_\n",
    "classes"
   ]
  },
  {
   "cell_type": "code",
   "execution_count": 54,
   "metadata": {},
   "outputs": [
    {
     "data": {
      "image/png": "[encoded data removed]",
      "text/plain": [
       "<Figure size 1200x800 with 6 Axes>"
      ]
     },
     "metadata": {},
     "output_type": "display_data"
    }
   ],
   "source": [
    "# Plots the Probability Distributions and the ROC Curves One vs Rest\n",
    "plt.figure(figsize = (12, 8))\n",
    "bins = [i/20 for i in range(20)] + [1]\n",
    "roc_auc_ovr = {}\n",
    "\n",
    "for i in range(len(classes)):\n",
    "    # Gets the class\n",
    "    c = classes[i]\n",
    "    \n",
    "    # Prepares an auxiliar dataframe to help with the plots\n",
    "    df_aux = X_test.copy()\n",
    "    df_aux['class'] = [1 if y == c else 0 for y in y_test]\n",
    "    df_aux['prob'] = y_proba[:, i]\n",
    "    df_aux = df_aux.reset_index(drop = True)\n",
    "    \n",
    "    # Plots the probability distribution for the class and the rest\n",
    "    ax = plt.subplot(2, 3, i+1)\n",
    "    sns.histplot(x = \"prob\", data = df_aux, hue = 'class', color = 'b', ax = ax, bins = bins)\n",
    "    ax.set_title(c)\n",
    "    ax.legend([f\"Class: {c}\", \"Rest\"])\n",
    "    ax.set_xlabel(f\"P(x = {c})\")\n",
    "    \n",
    "    # Calculates the ROC Coordinates and plots the ROC Curves\n",
    "    ax_bottom = plt.subplot(2, 3, i+4)\n",
    "    tpr, fpr = get_all_roc_coordinates(df_aux['class'], df_aux['prob'])\n",
    "    plot_roc_curve(tpr, fpr, scatter = False, ax = ax_bottom)\n",
    "    ax_bottom.set_title(\"ROC Curve OvR\")\n",
    "    \n",
    "    # Calculates the ROC AUC OvR\n",
    "    roc_auc_ovr[c] = roc_auc_score(df_aux['class'], df_aux['prob'])\n",
    "    \n",
    "plt.tight_layout()"
   ]
  },
  {
   "cell_type": "code",
   "execution_count": 55,
   "metadata": {},
   "outputs": [
    {
     "name": "stdout",
     "output_type": "stream",
     "text": [
      "functional ROC AUC OvR: 0.9079\n",
      "functional needs repair ROC AUC OvR: 0.8728\n",
      "non functional ROC AUC OvR: 0.9310\n",
      "average ROC AUC OvR: 0.9039\n"
     ]
    }
   ],
   "source": [
    "# Displays the ROC AUC for each class\n",
    "avg_roc_auc = 0\n",
    "i = 0\n",
    "for k in roc_auc_ovr:\n",
    "    avg_roc_auc += roc_auc_ovr[k]\n",
    "    i += 1\n",
    "    print(f\"{k} ROC AUC OvR: {roc_auc_ovr[k]:.4f}\")\n",
    "print(f\"average ROC AUC OvR: {avg_roc_auc/i:.4f}\")"
   ]
  },
  {
   "cell_type": "code",
   "execution_count": 56,
   "metadata": {},
   "outputs": [
    {
     "data": {
      "text/plain": [
       "0.9038966944090799"
      ]
     },
     "execution_count": 56,
     "metadata": {},
     "output_type": "execute_result"
    }
   ],
   "source": [
    "# Compares with sklearn (average only)\n",
    "# \"Macro\" average = unweighted mean\n",
    "roc_auc_score(y_test, y_proba, labels = classes, multi_class = 'ovr', average = 'macro')"
   ]
  },
  {
   "cell_type": "markdown",
   "metadata": {},
   "source": [
    "### 04.03.02 Feature importance"
   ]
  },
  {
   "cell_type": "code",
   "execution_count": 57,
   "metadata": {},
   "outputs": [
    {
     "data": {
      "text/html": [
       "<div>\n",
       "<style scoped>\n",
       "    .dataframe tbody tr th:only-of-type {\n",
       "        vertical-align: middle;\n",
       "    }\n",
       "\n",
       "    .dataframe tbody tr th {\n",
       "        vertical-align: top;\n",
       "    }\n",
       "\n",
       "    .dataframe thead th {\n",
       "        text-align: right;\n",
       "    }\n",
       "</style>\n",
       "<table border=\"1\" class=\"dataframe\">\n",
       "  <thead>\n",
       "    <tr style=\"text-align: right;\">\n",
       "      <th></th>\n",
       "      <th>Importance</th>\n",
       "    </tr>\n",
       "  </thead>\n",
       "  <tbody>\n",
       "    <tr>\n",
       "      <th>53</th>\n",
       "      <td>0.068397</td>\n",
       "    </tr>\n",
       "    <tr>\n",
       "      <th>54</th>\n",
       "      <td>0.068103</td>\n",
       "    </tr>\n",
       "    <tr>\n",
       "      <th>184</th>\n",
       "      <td>0.054944</td>\n",
       "    </tr>\n",
       "    <tr>\n",
       "      <th>182</th>\n",
       "      <td>0.050278</td>\n",
       "    </tr>\n",
       "    <tr>\n",
       "      <th>52</th>\n",
       "      <td>0.038506</td>\n",
       "    </tr>\n",
       "    <tr>\n",
       "      <th>29</th>\n",
       "      <td>0.037872</td>\n",
       "    </tr>\n",
       "    <tr>\n",
       "      <th>56</th>\n",
       "      <td>0.037620</td>\n",
       "    </tr>\n",
       "    <tr>\n",
       "      <th>24</th>\n",
       "      <td>0.037485</td>\n",
       "    </tr>\n",
       "    <tr>\n",
       "      <th>183</th>\n",
       "      <td>0.029665</td>\n",
       "    </tr>\n",
       "    <tr>\n",
       "      <th>49</th>\n",
       "      <td>0.027184</td>\n",
       "    </tr>\n",
       "    <tr>\n",
       "      <th>55</th>\n",
       "      <td>0.026133</td>\n",
       "    </tr>\n",
       "    <tr>\n",
       "      <th>50</th>\n",
       "      <td>0.025470</td>\n",
       "    </tr>\n",
       "    <tr>\n",
       "      <th>186</th>\n",
       "      <td>0.022957</td>\n",
       "    </tr>\n",
       "    <tr>\n",
       "      <th>43</th>\n",
       "      <td>0.019643</td>\n",
       "    </tr>\n",
       "    <tr>\n",
       "      <th>44</th>\n",
       "      <td>0.019465</td>\n",
       "    </tr>\n",
       "    <tr>\n",
       "      <th>185</th>\n",
       "      <td>0.018024</td>\n",
       "    </tr>\n",
       "    <tr>\n",
       "      <th>51</th>\n",
       "      <td>0.016532</td>\n",
       "    </tr>\n",
       "    <tr>\n",
       "      <th>3</th>\n",
       "      <td>0.015929</td>\n",
       "    </tr>\n",
       "    <tr>\n",
       "      <th>4</th>\n",
       "      <td>0.015396</td>\n",
       "    </tr>\n",
       "    <tr>\n",
       "      <th>8</th>\n",
       "      <td>0.014376</td>\n",
       "    </tr>\n",
       "  </tbody>\n",
       "</table>\n",
       "</div>"
      ],
      "text/plain": [
       "     Importance\n",
       "53     0.068397\n",
       "54     0.068103\n",
       "184    0.054944\n",
       "182    0.050278\n",
       "52     0.038506\n",
       "29     0.037872\n",
       "56     0.037620\n",
       "24     0.037485\n",
       "183    0.029665\n",
       "49     0.027184\n",
       "55     0.026133\n",
       "50     0.025470\n",
       "186    0.022957\n",
       "43     0.019643\n",
       "44     0.019465\n",
       "185    0.018024\n",
       "51     0.016532\n",
       "3      0.015929\n",
       "4      0.015396\n",
       "8      0.014376"
      ]
     },
     "execution_count": 57,
     "metadata": {},
     "output_type": "execute_result"
    }
   ],
   "source": [
    "imp = {}\n",
    "for i in range(len(X_train.columns)):\n",
    "    imp[X_train.columns[i]] = [model.feature_importances_[i]]\n",
    "\n",
    "features_importance = pd.DataFrame.from_dict(imp, orient=\"index\", columns=[\"Importance\"])\n",
    "features_importance.sort_values(\"Importance\", ascending=False).head(20)#.style.background_gradient()"
   ]
  },
  {
   "cell_type": "code",
   "execution_count": 58,
   "metadata": {},
   "outputs": [],
   "source": [
    "# features = DataPre.drop(columns=['level_0', 'id']).columns.tolist()\n",
    "# dic = {a:b for a, b in enumerate(features)}"
   ]
  },
  {
   "cell_type": "code",
   "execution_count": 59,
   "metadata": {},
   "outputs": [],
   "source": [
    "# features_names = pd.DataFrame.from_dict(dic, orient=\"index\", columns=[\"features_names\"]).reset_index(names='features')"
   ]
  },
  {
   "cell_type": "code",
   "execution_count": 60,
   "metadata": {},
   "outputs": [],
   "source": [
    "# top_20 = features_names.merge(features_importance.reset_index(names='features').sort_values(\"Importance\", ascending=False).head(20), on='features', how='left')"
   ]
  },
  {
   "cell_type": "code",
   "execution_count": 61,
   "metadata": {},
   "outputs": [],
   "source": [
    "# print(top_20.dropna()['features_names'].tolist())"
   ]
  },
  {
   "cell_type": "markdown",
   "metadata": {},
   "source": [
    "## 04.04 Prediction and submission"
   ]
  },
  {
   "cell_type": "code",
   "execution_count": 62,
   "metadata": {},
   "outputs": [],
   "source": [
    "y_submission = model.predict(X_submission)"
   ]
  },
  {
   "cell_type": "code",
   "execution_count": 63,
   "metadata": {},
   "outputs": [],
   "source": [
    "DataSubmission = {'id': DataTransform[DataTransform['level_0']=='test']['id'].values, 'status_group':y_submission}\n",
    "df_submission = pd.DataFrame(DataSubmission)"
   ]
  },
  {
   "cell_type": "code",
   "execution_count": 64,
   "metadata": {},
   "outputs": [],
   "source": [
    "df_submission.to_csv(path_out + f'SubmissionFormat_{today}.csv', index=False)"
   ]
  }
 ],
 "metadata": {
  "kernelspec": {
   "display_name": "dm-venv",
   "language": "python",
   "name": "python3"
  },
  "language_info": {
   "codemirror_mode": {
    "name": "ipython",
    "version": 3
   },
   "file_extension": ".py",
   "mimetype": "text/x-python",
   "name": "python",
   "nbconvert_exporter": "python",
   "pygments_lexer": "ipython3",
   "version": "3.10.4"
  }
 },
 "nbformat": 4,
 "nbformat_minor": 2
}
